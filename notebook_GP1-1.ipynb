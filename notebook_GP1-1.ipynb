{
 "cells": [
  {
   "cell_type": "markdown",
   "metadata": {},
   "source": [
    "#     Group Project 1. CAPM and factor models"
   ]
  },
  {
   "cell_type": "markdown",
   "metadata": {},
   "source": [
    "Import data from returns.xlsx\n",
    "\n",
    "Variables:\n",
    "\n",
    "Sector portfolio excess returns (return minus the risk free rate)\n",
    "\n",
    "BMATRUSER Building materials\n",
    "\n",
    "INDUSUSER Industrials\n",
    "\n",
    "CNSMGUSER Consumer goods\n",
    "\n",
    "FINANUSER Financials\n",
    "\n",
    "TECNOUSER Technology\n",
    "\n",
    "MktRF: Market return - risk free rate\n",
    "\n",
    "SMB Fama-French Small minus Big\n",
    "\n",
    "HML Fama- French High minus Low\n",
    "\n",
    "RF risk free rate\n",
    "\n"
   ]
  },
  {
   "cell_type": "markdown",
   "metadata": {},
   "source": [
    "Q1.  \n",
    "\n",
    "\n",
    "a) (5 points) Estimate CAPM regressions for each of the 5 portfolios. \n",
    "\n",
    "b) (2 points) Which portfolio excess return exhibits the highest sensitivity to systematic risk and why?\n",
    "\n",
    "c) (5 points) Which portfolios excess return is higher than that implied by the CAPM\n",
    "\n",
    "d) (2 points) Is the CAPM rejected, and why?\n",
    "\n"
   ]
  },
  {
   "cell_type": "code",
   "execution_count": null,
   "metadata": {},
   "outputs": [],
   "source": []
  },
  {
   "cell_type": "code",
   "execution_count": null,
   "metadata": {},
   "outputs": [],
   "source": []
  },
  {
   "cell_type": "markdown",
   "metadata": {},
   "source": [
    "Q2. (2 points) Do the residuals of the CAPM regression for INDUSUSER appear to be distributed normally, and why?\n"
   ]
  },
  {
   "cell_type": "code",
   "execution_count": null,
   "metadata": {},
   "outputs": [],
   "source": []
  },
  {
   "cell_type": "code",
   "execution_count": null,
   "metadata": {},
   "outputs": [],
   "source": []
  },
  {
   "cell_type": "markdown",
   "metadata": {},
   "source": [
    "Q3. (2 points). Do the residuals of the CAPM regression for INDUSUSER appear to exhibit heteroskedasticity?\n"
   ]
  },
  {
   "cell_type": "code",
   "execution_count": null,
   "metadata": {},
   "outputs": [],
   "source": []
  },
  {
   "cell_type": "code",
   "execution_count": null,
   "metadata": {},
   "outputs": [],
   "source": []
  },
  {
   "cell_type": "markdown",
   "metadata": {},
   "source": [
    "Q4. (2 points) Do the residuals of of the CAPM regression for INDUSUSER exhibit autocorrelation?"
   ]
  },
  {
   "cell_type": "code",
   "execution_count": null,
   "metadata": {},
   "outputs": [],
   "source": []
  },
  {
   "cell_type": "code",
   "execution_count": null,
   "metadata": {},
   "outputs": [],
   "source": []
  },
  {
   "cell_type": "markdown",
   "metadata": {},
   "source": [
    "Q5. \n",
    "\n",
    "a. (2 points) Compute the HAC (Newey-West) standard errors for the CAPM regressions of INDUSUSER and FINANUSER.\n",
    "\n",
    "b. (4 points) How the differences between the HAC standard errors and the OLS standard errors change the evaluation of significance at 5% level of the MktRF variable for each of the two portfolios?\n"
   ]
  },
  {
   "cell_type": "code",
   "execution_count": null,
   "metadata": {},
   "outputs": [],
   "source": []
  },
  {
   "cell_type": "code",
   "execution_count": null,
   "metadata": {},
   "outputs": [],
   "source": []
  },
  {
   "cell_type": "markdown",
   "metadata": {},
   "source": [
    "Q6. (2 points) Compute the correlation matrix of MktRF, SMB, and HML. Can the correlation of MktRF with SMB and HML be viewed as small?"
   ]
  },
  {
   "cell_type": "code",
   "execution_count": null,
   "metadata": {},
   "outputs": [],
   "source": []
  },
  {
   "cell_type": "code",
   "execution_count": null,
   "metadata": {},
   "outputs": [],
   "source": []
  },
  {
   "cell_type": "markdown",
   "metadata": {},
   "source": [
    "Q7. \n",
    "\n",
    "a. (5 points) Estimate a multivariate regression adding SMB and HML to the CAPM regressions for each of\n",
    "the 5 portfolios\n",
    "\n",
    "b. (2 points) For which portfolios the coefficients of SMB and HML are significantly different from zero?\n",
    "\n",
    "c. (3 points) Are there omitted variable biases in the original CAPM regressions for the 5 portfolios?\n"
   ]
  },
  {
   "cell_type": "code",
   "execution_count": null,
   "metadata": {},
   "outputs": [],
   "source": []
  },
  {
   "cell_type": "code",
   "execution_count": null,
   "metadata": {},
   "outputs": [],
   "source": []
  }
 ],
 "metadata": {
  "colab": {
   "provenance": []
  },
  "kernelspec": {
   "display_name": "Python 3 (ipykernel)",
   "language": "python",
   "name": "python3"
  },
  "language_info": {
   "codemirror_mode": {
    "name": "ipython",
    "version": 3
   },
   "file_extension": ".py",
   "mimetype": "text/x-python",
   "name": "python",
   "nbconvert_exporter": "python",
   "pygments_lexer": "ipython3",
   "version": "3.11.5"
  }
 },
 "nbformat": 4,
 "nbformat_minor": 1
}
